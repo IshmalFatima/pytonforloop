{
 "cells": [
  {
   "cell_type": "code",
   "execution_count": 1,
   "id": "6a2a9c66-2c94-4db8-8f8e-70b10b10903d",
   "metadata": {},
   "outputs": [
    {
     "name": "stdout",
     "output_type": "stream",
     "text": [
      "2\n",
      "4\n",
      "6\n",
      "8\n",
      "10\n",
      "12\n",
      "14\n",
      "16\n",
      "18\n",
      "20\n"
     ]
    }
   ],
   "source": [
    "#Q1\n",
    "for numbers in range(2,22,2):\n",
    "    print(numbers)"
   ]
  },
  {
   "cell_type": "code",
   "execution_count": 5,
   "id": "087ab954-f150-4e1e-9b38-60dc02b2bf27",
   "metadata": {},
   "outputs": [
    {
     "name": "stdout",
     "output_type": "stream",
     "text": [
      "FIZA\n",
      "ISHMAL\n",
      "AIMAN\n"
     ]
    }
   ],
   "source": [
    "#Q2\n",
    "names=['fiza','eman','ayesha']\n",
    "for name in names:\n",
    "    print(name.upper())"
   ]
  },
  {
   "cell_type": "code",
   "execution_count": 7,
   "id": "926af760-a3b4-47c5-864b-96f42f521836",
   "metadata": {},
   "outputs": [
    {
     "name": "stdout",
     "output_type": "stream",
     "text": [
      "10\n",
      "9\n",
      "8\n",
      "7\n",
      "6\n",
      "5\n",
      "4\n",
      "3\n",
      "2\n"
     ]
    }
   ],
   "source": [
    "#Q3\n",
    "for number in range(10,1,-1):\n",
    "    print(number)"
   ]
  },
  {
   "cell_type": "code",
   "execution_count": 27,
   "id": "d7591c87-0e0b-40ed-bf59-6dc89346c3b5",
   "metadata": {},
   "outputs": [
    {
     "name": "stdout",
     "output_type": "stream",
     "text": [
      "45\n",
      "45\n",
      "45\n",
      "45\n",
      "45\n",
      "45\n",
      "45\n",
      "45\n",
      "45\n"
     ]
    }
   ],
   "source": [
    "#Q4\n",
    "numbers=[1,2,3,4,5,6,7,8,9]\n",
    "for number in numbers:\n",
    "    if no%3==0:\n",
    "        print(no)"
   ]
  },
  {
   "cell_type": "code",
   "execution_count": 21,
   "id": "631c1d98-e314-48e0-b867-5253d89155e7",
   "metadata": {},
   "outputs": [
    {
     "name": "stdout",
     "output_type": "stream",
     "text": [
      "1\n",
      "4\n",
      "9\n",
      "16\n",
      "25\n",
      "36\n",
      "49\n",
      "64\n",
      "81\n",
      "100\n"
     ]
    }
   ],
   "source": [
    "#Q5\n",
    "for number in range(1,11):\n",
    "    square=number**2\n",
    "    print(square)"
   ]
  },
  {
   "cell_type": "code",
   "execution_count": 23,
   "id": "03660e97-7019-4b42-8313-e5425d3eb2cd",
   "metadata": {},
   "outputs": [
    {
     "name": "stdout",
     "output_type": "stream",
     "text": [
      "50.0\n",
      "86.0\n",
      "104.0\n",
      "140.0\n",
      "158.0\n",
      "194.0\n"
     ]
    }
   ],
   "source": [
    "#Q6\n",
    "celsius=[10,30,40,60,70,90,]\n",
    "for temp in celsius:\n",
    "    fahrenheit=(temp9/5)+32\n",
    "    print(fahrenheit)"
   ]
  },
  {
   "cell_type": "code",
   "execution_count": 35,
   "id": "b1a8a372-3f0e-4925-821c-b01f1c5e884b",
   "metadata": {},
   "outputs": [
    {
     "name": "stdout",
     "output_type": "stream",
     "text": [
      "5*1=5\n",
      "5*2=10\n",
      "5*3=15\n",
      "5*4=20\n",
      "5*5=25\n",
      "5*6=30\n",
      "5*7=35\n",
      "5*8=40\n",
      "5*9=45\n",
      "5*10=50\n"
     ]
    }
   ],
   "source": [
    "#Q7\n",
    "for table in range(1,11):\n",
    "    print(f\"5*{table}={5*table}\")\n",
    "    \n",
    "    "
   ]
  },
  {
   "cell_type": "code",
   "execution_count": 33,
   "id": "ea1f1310-dbd1-4bdc-a8f7-c4c27ca67c3d",
   "metadata": {},
   "outputs": [
    {
     "name": "stdout",
     "output_type": "stream",
     "text": [
      "95\n"
     ]
    }
   ],
   "source": [
    " #Q8\n",
    "numbers=[5,10,15,20,45]\n",
    "sum=0\n",
    "for number in numbers:\n",
    "    sum+=number\n",
    "print(sum)"
   ]
  },
  {
   "cell_type": "code",
   "execution_count": 31,
   "id": "fa4e23fc-b8dd-42ad-9254-ffc14cdac5a3",
   "metadata": {},
   "outputs": [
    {
     "name": "stdout",
     "output_type": "stream",
     "text": [
      "p\n",
      "y\n",
      "t\n",
      "h\n",
      "o\n",
      "n\n"
     ]
    }
   ],
   "source": [
    "#Q9\n",
    "word=\"python\"\n",
    "for character in word:\n",
    "    print(character)"
   ]
  },
  {
   "cell_type": "code",
   "execution_count": 29,
   "id": "99a80254-d029-48cb-a5d0-817c60031911",
   "metadata": {},
   "outputs": [
    {
     "name": "stdout",
     "output_type": "stream",
     "text": [
      "banana\n",
      "mangofruit\n",
      "cherry\n"
     ]
    }
   ],
   "source": [
    "#Q10\n",
    "fruits=['banana','mangofruit','kiwi','cherry']\n",
    "for character in fruits:\n",
    "    if len(character)>5:\n",
    "        print(character)"
   ]
  },
  {
   "cell_type": "code",
   "execution_count": null,
   "id": "1a53d802-33f2-4a20-8e02-11b940578d07",
   "metadata": {},
   "outputs": [],
   "source": []
  }
 ],
 "metadata": {
  "kernelspec": {
   "display_name": "Python [conda env:base] *",
   "language": "python",
   "name": "conda-base-py"
  },
  "language_info": {
   "codemirror_mode": {
    "name": "ipython",
    "version": 3
   },
   "file_extension": ".py",
   "mimetype": "text/x-python",
   "name": "python",
   "nbconvert_exporter": "python",
   "pygments_lexer": "ipython3",
   "version": "3.12.7"
  }
 },
 "nbformat": 4,
 "nbformat_minor": 5
}
